{
 "cells": [
  {
   "cell_type": "markdown",
   "metadata": {},
   "source": [
    "# RandomWalk\n",
    "## Model of a random walk\n",
    "Kelli McCourt\n",
    "HW 6\n",
    "Problem 2"
   ]
  },
  {
   "cell_type": "code",
   "execution_count": 166,
   "metadata": {},
   "outputs": [
    {
     "data": {
      "text/plain": [
       "[<matplotlib.lines.Line2D at 0x120f8da20>]"
      ]
     },
     "execution_count": 166,
     "metadata": {},
     "output_type": "execute_result"
    },
    {
     "data": {
      "image/png": "[encoded data removed]",
      "text/plain": [
       "<Figure size 432x288 with 1 Axes>"
      ]
     },
     "metadata": {
      "needs_background": "light"
     },
     "output_type": "display_data"
    }
   ],
   "source": [
    "# RandomWalk.py\n",
    "# Random walk simulation\n",
    "\n",
    "# Introduction to Computational Science:  Modeling and Simulation for the Sciences, 2nd ed.\n",
    "# Angela B. Shiflet and George W. Shiflet\n",
    "# Wofford College\n",
    "# Copyright 2014 by Princeton University Press\n",
    "\n",
    "\n",
    "import numpy as np\n",
    "import matplotlib.pyplot as plt\n",
    "import random as rand\n",
    "import math \n",
    "n = 50\n",
    "\n",
    "# Random walk where steps are diagonal\n",
    "# Pre:  n is the number of steps.\n",
    "# Post: The function returns a list of 2 lists: a list of x-coordinates and a list\n",
    "#       of y-coordinates taken in the random walk.\n",
    "def RandomSelect(n):\n",
    "\n",
    "    # determine points of path\n",
    "    C1 = 0\n",
    "    C2 = 0\n",
    "    C3 = 0\n",
    "    C4 = 0\n",
    "    C5 = 0\n",
    "    C6 = 0\n",
    "    C7 = 0\n",
    "    C8 = 0\n",
    "    C9 = 0\n",
    "    H=0\n",
    "    #harray= np.array(0,0,0,0,0,0,0,0,0)\n",
    "\n",
    "    direction = [ 1,2,3,4,5,6,7,8,9]\n",
    "    weight = [0.3506,0.1677,0.1247,0.1133,0.0728,0.0677,0.0538,0.0443,0.0051]\n",
    "        \n",
    "    for i in range(n):\n",
    "        rando =np.random.choice(direction,p=weight)\n",
    "        if  rando == 1:\n",
    "            C1 = C1 + 1\n",
    "        elif rando == 2:\n",
    "            C2 = C2 + 1\n",
    "\n",
    "        elif rando == 3:\n",
    "            C3 = C3 + 1\n",
    "        elif rando == 4:\n",
    "            C4 = C4 + 1\n",
    "        elif rando == 5:\n",
    "            C5 = C5 + 1\n",
    "\n",
    "        elif rando == 6:\n",
    "            C6 = C6 + 1\n",
    "\n",
    "        elif rando == 7:\n",
    "            C7 = C7 + 1\n",
    "\n",
    "        elif rando == 8:\n",
    "            C8 = C8 + 1\n",
    "        else: \n",
    "            C9 = C9 + 1\n",
    "    \n",
    "    harray= np.array([C1,C2,C3,C4,C5,C6,C7,C8,C9])\n",
    "    \n",
    "    for j in range(9):\n",
    "        if harray[j]==0:\n",
    "            H = H+harray[j]\n",
    "        else:\n",
    "            H = H+harray[j]*math.log(harray[j])\n",
    "            \n",
    "    return [H] \n",
    "              \n",
    "y=np.array([RandomSelect(25),RandomSelect(50),RandomSelect(100),RandomSelect(200),RandomSelect(400)]) \n",
    "x=np.array([25,50,100,200,400])\n",
    "\n",
    "plt.plot(x,y,'bo')"
   ]
  },
  {
   "cell_type": "code",
   "execution_count": null,
   "metadata": {},
   "outputs": [],
   "source": []
  },
  {
   "cell_type": "code",
   "execution_count": null,
   "metadata": {},
   "outputs": [],
   "source": []
  },
  {
   "cell_type": "code",
   "execution_count": null,
   "metadata": {},
   "outputs": [],
   "source": []
  },
  {
   "cell_type": "code",
   "execution_count": null,
   "metadata": {},
   "outputs": [],
   "source": []
  },
  {
   "cell_type": "code",
   "execution_count": null,
   "metadata": {},
   "outputs": [],
   "source": []
  },
  {
   "cell_type": "code",
   "execution_count": null,
   "metadata": {},
   "outputs": [],
   "source": []
  },
  {
   "cell_type": "code",
   "execution_count": null,
   "metadata": {},
   "outputs": [],
   "source": []
  }
 ],
 "metadata": {
  "kernelspec": {
   "display_name": "Python 3",
   "language": "python",
   "name": "python3"
  },
  "language_info": {
   "codemirror_mode": {
    "name": "ipython",
    "version": 3
   },
   "file_extension": ".py",
   "mimetype": "text/x-python",
   "name": "python",
   "nbconvert_exporter": "python",
   "pygments_lexer": "ipython3",
   "version": "3.7.3"
  }
 },
 "nbformat": 4,
 "nbformat_minor": 2
}
